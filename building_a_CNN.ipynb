{
 "cells": [
  {
   "cell_type": "code",
   "execution_count": 26,
   "metadata": {},
   "outputs": [
    {
     "name": "stdout",
     "output_type": "stream",
     "text": [
      "['bed_room', 'dining_room', 'living_room']\n",
      "Types of rooms found:  3\n"
     ]
    }
   ],
   "source": [
    "import numpy as np\n",
    "import pandas as pd\n",
    "import matplotlib.pyplot as plt\n",
    "import os\n",
    "\n",
    "dataset_path = os.listdir('dataset')\n",
    "\n",
    "room_types = os.listdir('dataset')\n",
    "print(room_types)\n",
    "\n",
    "print(\"Types of rooms found: \", len(room_types))\n"
   ]
  },
  {
   "cell_type": "code",
   "execution_count": 32,
   "metadata": {},
   "outputs": [
    {
     "name": "stdout",
     "output_type": "stream",
     "text": [
      "[('bed_room', 'dataset/bed_room/bed-1303451__340.jpg'), ('bed_room', 'dataset/bed_room/bed-1846251__340.jpg'), ('bed_room', 'dataset/bed_room/bed-3786264__340.jpg'), ('bed_room', 'dataset/bed_room/bed-4065946__340.jpg'), ('bed_room', 'dataset/bed_room/bed-4343379__340.jpg'), ('bed_room', 'dataset/bed_room/bed-4343382__340.jpg'), ('bed_room', 'dataset/bed_room/bed-4540208__340.jpg'), ('bed_room', 'dataset/bed_room/bedroom-3102376__340.jpg'), ('bed_room', 'dataset/bed_room/bedroom-374982__340.jpg'), ('bed_room', 'dataset/bed_room/bedroom-4072391__340 (1).jpg'), ('bed_room', 'dataset/bed_room/bedroom-460762__340.jpg'), ('bed_room', 'dataset/bed_room/bedroom-690129__340.jpg'), ('dining_room', 'dataset/dining_room/apartment-185778__340.jpg'), ('dining_room', 'dataset/dining_room/apartment-185779__340.jpg'), ('dining_room', 'dataset/dining_room/apartment-2094648__340.jpg'), ('dining_room', 'dataset/dining_room/architectural-224242__340.jpg'), ('dining_room', 'dataset/dining_room/architecture-3214528__340.jpg'), ('dining_room', 'dataset/dining_room/cafeteria-544871__340.jpg'), ('dining_room', 'dataset/dining_room/candles-126159__340.jpg'), ('dining_room', 'dataset/dining_room/centerpiece-714019__340.jpg'), ('dining_room', 'dataset/dining_room/chair-3306118__340.jpg'), ('dining_room', 'dataset/dining_room/chair-3321246__340.jpg'), ('dining_room', 'dataset/dining_room/dining-2112653__340.jpg'), ('living_room', 'dataset/living_room/couch-1835923__340.jpg'), ('living_room', 'dataset/living_room/dining-room-332207__340.jpg'), ('living_room', 'dataset/living_room/furniture-998265__340.jpg'), ('living_room', 'dataset/living_room/house-2563735__340.jpg'), ('living_room', 'dataset/living_room/interior-2685521__340.jpg'), ('living_room', 'dataset/living_room/kitchen-2165756__340.jpg'), ('living_room', 'dataset/living_room/kitchen-3690727__340.jpg'), ('living_room', 'dataset/living_room/kitchen-living-room-4043091__340.jpg'), ('living_room', 'dataset/living_room/living-living-room-1644496__340.jpg'), ('living_room', 'dataset/living_room/living-room-1048191__340.jpg'), ('living_room', 'dataset/living_room/living-room-1523480__340.jpg'), ('living_room', 'dataset/living_room/living-room-2037945__340.jpg'), ('living_room', 'dataset/living_room/living-room-2155376__340.jpg'), ('living_room', 'dataset/living_room/living-room-2569325__340.jpg'), ('living_room', 'dataset/living_room/living-room-2732939__340.jpg'), ('living_room', 'dataset/living_room/living-room-3164434__340.jpg'), ('living_room', 'dataset/living_room/living-room-670240__340.jpg'), ('living_room', 'dataset/living_room/living-room-690174__340.jpg'), ('living_room', 'dataset/living_room/living-room-728732__340.jpg'), ('living_room', 'dataset/living_room/pexels-photo-245208.jpeg'), ('living_room', 'dataset/living_room/pexels-photo-275484.jpeg'), ('living_room', 'dataset/living_room/pexels-photo-276583.jpeg'), ('living_room', 'dataset/living_room/pexels-photo-276724.jpeg'), ('living_room', 'dataset/living_room/pexels-photo-279719.jpeg')]\n"
     ]
    }
   ],
   "source": [
    "rooms = []\n",
    "\n",
    "for item in room_types:\n",
    "    all_rooms = os.listdir('dataset' + '/' + item)\n",
    "    for room in all_rooms:\n",
    "        rooms.append((item, str('dataset' + '/' + item) + '/' + room))\n",
    "\n",
    "    \n",
    "\n",
    "print(rooms)\n"
   ]
  },
  {
   "cell_type": "code",
   "execution_count": 33,
   "metadata": {},
   "outputs": [
    {
     "data": {
      "text/html": [
       "<div>\n",
       "<style scoped>\n",
       "    .dataframe tbody tr th:only-of-type {\n",
       "        vertical-align: middle;\n",
       "    }\n",
       "\n",
       "    .dataframe tbody tr th {\n",
       "        vertical-align: top;\n",
       "    }\n",
       "\n",
       "    .dataframe thead th {\n",
       "        text-align: right;\n",
       "    }\n",
       "</style>\n",
       "<table border=\"1\" class=\"dataframe\">\n",
       "  <thead>\n",
       "    <tr style=\"text-align: right;\">\n",
       "      <th></th>\n",
       "      <th>room type</th>\n",
       "      <th>image</th>\n",
       "    </tr>\n",
       "  </thead>\n",
       "  <tbody>\n",
       "    <tr>\n",
       "      <th>0</th>\n",
       "      <td>bed_room</td>\n",
       "      <td>dataset/bed_room/bed-1303451__340.jpg</td>\n",
       "    </tr>\n",
       "    <tr>\n",
       "      <th>1</th>\n",
       "      <td>bed_room</td>\n",
       "      <td>dataset/bed_room/bed-1846251__340.jpg</td>\n",
       "    </tr>\n",
       "    <tr>\n",
       "      <th>2</th>\n",
       "      <td>bed_room</td>\n",
       "      <td>dataset/bed_room/bed-3786264__340.jpg</td>\n",
       "    </tr>\n",
       "    <tr>\n",
       "      <th>3</th>\n",
       "      <td>bed_room</td>\n",
       "      <td>dataset/bed_room/bed-4065946__340.jpg</td>\n",
       "    </tr>\n",
       "    <tr>\n",
       "      <th>4</th>\n",
       "      <td>bed_room</td>\n",
       "      <td>dataset/bed_room/bed-4343379__340.jpg</td>\n",
       "    </tr>\n",
       "  </tbody>\n",
       "</table>\n",
       "</div>"
      ],
      "text/plain": [
       "  room type                                  image\n",
       "0  bed_room  dataset/bed_room/bed-1303451__340.jpg\n",
       "1  bed_room  dataset/bed_room/bed-1846251__340.jpg\n",
       "2  bed_room  dataset/bed_room/bed-3786264__340.jpg\n",
       "3  bed_room  dataset/bed_room/bed-4065946__340.jpg\n",
       "4  bed_room  dataset/bed_room/bed-4343379__340.jpg"
      ]
     },
     "execution_count": 33,
     "metadata": {},
     "output_type": "execute_result"
    }
   ],
   "source": [
    "rooms_df = pd.DataFrame(data=rooms, columns=['room type', 'image'])\n",
    "rooms_df.head()"
   ]
  },
  {
   "cell_type": "code",
   "execution_count": 34,
   "metadata": {},
   "outputs": [
    {
     "data": {
      "text/html": [
       "<div>\n",
       "<style scoped>\n",
       "    .dataframe tbody tr th:only-of-type {\n",
       "        vertical-align: middle;\n",
       "    }\n",
       "\n",
       "    .dataframe tbody tr th {\n",
       "        vertical-align: top;\n",
       "    }\n",
       "\n",
       "    .dataframe thead th {\n",
       "        text-align: right;\n",
       "    }\n",
       "</style>\n",
       "<table border=\"1\" class=\"dataframe\">\n",
       "  <thead>\n",
       "    <tr style=\"text-align: right;\">\n",
       "      <th></th>\n",
       "      <th>room type</th>\n",
       "      <th>image</th>\n",
       "    </tr>\n",
       "  </thead>\n",
       "  <tbody>\n",
       "    <tr>\n",
       "      <th>42</th>\n",
       "      <td>living_room</td>\n",
       "      <td>dataset/living_room/pexels-photo-245208.jpeg</td>\n",
       "    </tr>\n",
       "    <tr>\n",
       "      <th>43</th>\n",
       "      <td>living_room</td>\n",
       "      <td>dataset/living_room/pexels-photo-275484.jpeg</td>\n",
       "    </tr>\n",
       "    <tr>\n",
       "      <th>44</th>\n",
       "      <td>living_room</td>\n",
       "      <td>dataset/living_room/pexels-photo-276583.jpeg</td>\n",
       "    </tr>\n",
       "    <tr>\n",
       "      <th>45</th>\n",
       "      <td>living_room</td>\n",
       "      <td>dataset/living_room/pexels-photo-276724.jpeg</td>\n",
       "    </tr>\n",
       "    <tr>\n",
       "      <th>46</th>\n",
       "      <td>living_room</td>\n",
       "      <td>dataset/living_room/pexels-photo-279719.jpeg</td>\n",
       "    </tr>\n",
       "  </tbody>\n",
       "</table>\n",
       "</div>"
      ],
      "text/plain": [
       "      room type                                         image\n",
       "42  living_room  dataset/living_room/pexels-photo-245208.jpeg\n",
       "43  living_room  dataset/living_room/pexels-photo-275484.jpeg\n",
       "44  living_room  dataset/living_room/pexels-photo-276583.jpeg\n",
       "45  living_room  dataset/living_room/pexels-photo-276724.jpeg\n",
       "46  living_room  dataset/living_room/pexels-photo-279719.jpeg"
      ]
     },
     "execution_count": 34,
     "metadata": {},
     "output_type": "execute_result"
    }
   ],
   "source": [
    "rooms_df.tail()"
   ]
  },
  {
   "cell_type": "code",
   "execution_count": 35,
   "metadata": {},
   "outputs": [
    {
     "name": "stdout",
     "output_type": "stream",
     "text": [
      "Total number of rooms in the dataset:  47\n"
     ]
    }
   ],
   "source": [
    "print(\"Total number of rooms in the dataset: \", len(rooms_df))"
   ]
  },
  {
   "cell_type": "code",
   "execution_count": 36,
   "metadata": {},
   "outputs": [
    {
     "name": "stdout",
     "output_type": "stream",
     "text": [
      "rooms in each category: \n",
      "living_room    24\n",
      "bed_room       12\n",
      "dining_room    11\n",
      "Name: room type, dtype: int64\n"
     ]
    }
   ],
   "source": [
    "room_count = rooms_df ['room type'].value_counts()\n",
    "\n",
    "print(\"rooms in each category: \")\n",
    "print(room_count)"
   ]
  },
  {
   "cell_type": "code",
   "execution_count": 37,
   "metadata": {},
   "outputs": [],
   "source": [
    "import cv2\n",
    "path = 'dataset/'\n",
    "\n",
    "im_size = 60\n",
    "\n",
    "images = []\n",
    "labels = []\n",
    "\n",
    "for i in room_types:\n",
    "    data_path = path + str(i)\n",
    "    filenames = [i for i in os.listdir(data_path)]\n",
    "\n",
    "    for f in filenames:\n",
    "        img = cv2.imread(data_path + '/' + f)\n",
    "        img = cv2.resize(img, (im_size, im_size))\n",
    "        images.append(img)\n",
    "        labels.append(i)\n",
    "\n"
   ]
  },
  {
   "cell_type": "code",
   "execution_count": 38,
   "metadata": {},
   "outputs": [
    {
     "data": {
      "text/plain": [
       "(47, 60, 60, 3)"
      ]
     },
     "execution_count": 38,
     "metadata": {},
     "output_type": "execute_result"
    }
   ],
   "source": [
    "images  = np.array(images)\n",
    "\n",
    "images.shape"
   ]
  },
  {
   "cell_type": "code",
   "execution_count": 39,
   "metadata": {},
   "outputs": [
    {
     "data": {
      "text/plain": [
       "(47, 60, 60, 3)"
      ]
     },
     "execution_count": 39,
     "metadata": {},
     "output_type": "execute_result"
    }
   ],
   "source": [
    "images = images.astype('float32')\n",
    "images.shape"
   ]
  },
  {
   "cell_type": "code",
   "execution_count": 40,
   "metadata": {},
   "outputs": [
    {
     "name": "stdout",
     "output_type": "stream",
     "text": [
      "['bed_room' 'bed_room' 'bed_room' 'bed_room' 'bed_room']\n"
     ]
    }
   ],
   "source": [
    "from sklearn.preprocessing import LabelEncoder, OneHotEncoder\n",
    "\n",
    "y = rooms_df['room type'].values\n",
    "print(y[:5])"
   ]
  },
  {
   "cell_type": "code",
   "execution_count": 41,
   "metadata": {},
   "outputs": [
    {
     "name": "stdout",
     "output_type": "stream",
     "text": [
      "[0 0 0 0 0 0 0 0 0 0 0 0 1 1 1 1 1 1 1 1 1 1 1 2 2 2 2 2 2 2 2 2 2 2 2 2 2\n",
      " 2 2 2 2 2 2 2 2 2 2]\n"
     ]
    }
   ],
   "source": [
    "y = LabelEncoder().fit_transform(y)\n",
    "print(y)"
   ]
  },
  {
   "cell_type": "code",
   "execution_count": 42,
   "metadata": {},
   "outputs": [
    {
     "data": {
      "text/plain": [
       "(47, 3)"
      ]
     },
     "execution_count": 42,
     "metadata": {},
     "output_type": "execute_result"
    }
   ],
   "source": [
    "y = y.reshape(-1, 1)\n",
    "Y = OneHotEncoder().fit_transform(y)\n",
    "Y.shape"
   ]
  },
  {
   "cell_type": "code",
   "execution_count": 44,
   "metadata": {},
   "outputs": [
    {
     "name": "stdout",
     "output_type": "stream",
     "text": [
      "(44, 60, 60, 3)\n",
      "(3, 60, 60, 3)\n",
      "(44, 3)\n",
      "(3, 3)\n"
     ]
    }
   ],
   "source": [
    "from sklearn.utils import shuffle\n",
    "from sklearn.model_selection import train_test_split\n",
    "images, Y = shuffle(images, Y, random_state=1)\n",
    "\n",
    "train_x, test_x, train_y, test_y = train_test_split(images, Y, test_size=0.05, random_state=415)\n",
    "\n",
    "print(train_x.shape)\n",
    "print(test_x.shape)\n",
    "print(train_y.shape)\n",
    "print(test_y.shape)"
   ]
  },
  {
   "cell_type": "code",
   "execution_count": null,
   "metadata": {},
   "outputs": [],
   "source": []
  }
 ],
 "metadata": {
  "interpreter": {
   "hash": "aacf6b3dc8e6c41ea35796be81b7b95d0c692d3df2fb00cb2da8ca797cba9426"
  },
  "kernelspec": {
   "display_name": "Python 3.9.12 64-bit (windows store)",
   "language": "python",
   "name": "python3"
  },
  "language_info": {
   "codemirror_mode": {
    "name": "ipython",
    "version": 3
   },
   "file_extension": ".py",
   "mimetype": "text/x-python",
   "name": "python",
   "nbconvert_exporter": "python",
   "pygments_lexer": "ipython3",
   "version": "3.9.12"
  },
  "orig_nbformat": 4
 },
 "nbformat": 4,
 "nbformat_minor": 2
}
